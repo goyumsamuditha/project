{
 "cells": [
  {
   "metadata": {},
   "cell_type": "markdown",
   "source": [
    "### Q2 - Data Analyzing\n",
    "This notebook performs:\n",
    "- **Data Analyzing** on `cleaned_books_data.csv` (Part C)"
   ],
   "id": "1ddcffb1d7f58400"
  },
  {
   "cell_type": "code",
   "id": "initial_id",
   "metadata": {
    "collapsed": true,
    "ExecuteTime": {
     "end_time": "2025-09-23T10:32:13.763579Z",
     "start_time": "2025-09-23T10:32:08.701475Z"
    }
   },
   "source": [
    "# Import necessary libraries\n",
    "import pandas as pd\n",
    "import numpy as np\n",
    "from scipy import stats\n",
    "from sklearn.linear_model import LinearRegression"
   ],
   "outputs": [],
   "execution_count": 1
  },
  {
   "metadata": {
    "ExecuteTime": {
     "end_time": "2025-09-23T10:35:41.100199Z",
     "start_time": "2025-09-23T10:35:40.758604Z"
    }
   },
   "cell_type": "code",
   "source": [
    "# load the dataset\n",
    "df = pd.read_csv('G:\\\\My Drive\\\\MSC\\\\project\\\\question2_social_media_analysis\\\\data_processing\\\\cleaned_books_data.csv')\n",
    "df"
   ],
   "id": "6aaf9e91d1608693",
   "outputs": [
    {
     "data": {
      "text/plain": [
       "                                                 title  price  rating  \\\n",
       "0                                 A Light in the Attic  51.77       3   \n",
       "1                                   Tipping the Velvet  53.74       1   \n",
       "2                                           Soumission  50.10       1   \n",
       "3                                        Sharp Objects  47.82       4   \n",
       "4                Sapiens: A Brief History of Humankind  54.23       5   \n",
       "..                                                 ...    ...     ...   \n",
       "993                               Beyond Good and Evil  43.38       1   \n",
       "994   Ajin: Demi-Human, Volume 1 (Ajin: Demi-Human #1)  57.06       4   \n",
       "995  A Spy's Devotion (The Regency Spies of London #1)  16.97       5   \n",
       "996                1st to Die (Women's Murder Club #1)  53.98       1   \n",
       "997                 1,000 Places to See Before You Die  26.08       5   \n",
       "\n",
       "               category             availability  \\\n",
       "0                Poetry  In stock (22 available)   \n",
       "1    Historical Fiction  In stock (20 available)   \n",
       "2               Fiction  In stock (20 available)   \n",
       "3               Mystery  In stock (20 available)   \n",
       "4               History  In stock (20 available)   \n",
       "..                  ...                      ...   \n",
       "993          Philosophy   In stock (1 available)   \n",
       "994      Sequential Art   In stock (1 available)   \n",
       "995  Historical Fiction   In stock (1 available)   \n",
       "996             Mystery   In stock (1 available)   \n",
       "997              Travel   In stock (1 available)   \n",
       "\n",
       "                                           description  \n",
       "0    It's hard to imagine a world without A Light i...  \n",
       "1    \"Erotic and absorbing...Written with starling ...  \n",
       "2    Dans une France assez proche de la nôtre, un h...  \n",
       "3    WICKED above her hipbone, GIRL across her hear...  \n",
       "4    From a renowned historian comes a groundbreaki...  \n",
       "..                                                 ...  \n",
       "993  Friedrich Nietzsche's Beyond Good and Evil is ...  \n",
       "994  High school student Kei Nagai is struck dead i...  \n",
       "995  In England’s Regency era, manners and elegance...  \n",
       "996  James Patterson, bestselling author of the Ale...  \n",
       "997  Around the World, continent by continent, here...  \n",
       "\n",
       "[998 rows x 6 columns]"
      ],
      "text/html": [
       "<div>\n",
       "<style scoped>\n",
       "    .dataframe tbody tr th:only-of-type {\n",
       "        vertical-align: middle;\n",
       "    }\n",
       "\n",
       "    .dataframe tbody tr th {\n",
       "        vertical-align: top;\n",
       "    }\n",
       "\n",
       "    .dataframe thead th {\n",
       "        text-align: right;\n",
       "    }\n",
       "</style>\n",
       "<table border=\"1\" class=\"dataframe\">\n",
       "  <thead>\n",
       "    <tr style=\"text-align: right;\">\n",
       "      <th></th>\n",
       "      <th>title</th>\n",
       "      <th>price</th>\n",
       "      <th>rating</th>\n",
       "      <th>category</th>\n",
       "      <th>availability</th>\n",
       "      <th>description</th>\n",
       "    </tr>\n",
       "  </thead>\n",
       "  <tbody>\n",
       "    <tr>\n",
       "      <th>0</th>\n",
       "      <td>A Light in the Attic</td>\n",
       "      <td>51.77</td>\n",
       "      <td>3</td>\n",
       "      <td>Poetry</td>\n",
       "      <td>In stock (22 available)</td>\n",
       "      <td>It's hard to imagine a world without A Light i...</td>\n",
       "    </tr>\n",
       "    <tr>\n",
       "      <th>1</th>\n",
       "      <td>Tipping the Velvet</td>\n",
       "      <td>53.74</td>\n",
       "      <td>1</td>\n",
       "      <td>Historical Fiction</td>\n",
       "      <td>In stock (20 available)</td>\n",
       "      <td>\"Erotic and absorbing...Written with starling ...</td>\n",
       "    </tr>\n",
       "    <tr>\n",
       "      <th>2</th>\n",
       "      <td>Soumission</td>\n",
       "      <td>50.10</td>\n",
       "      <td>1</td>\n",
       "      <td>Fiction</td>\n",
       "      <td>In stock (20 available)</td>\n",
       "      <td>Dans une France assez proche de la nôtre, un h...</td>\n",
       "    </tr>\n",
       "    <tr>\n",
       "      <th>3</th>\n",
       "      <td>Sharp Objects</td>\n",
       "      <td>47.82</td>\n",
       "      <td>4</td>\n",
       "      <td>Mystery</td>\n",
       "      <td>In stock (20 available)</td>\n",
       "      <td>WICKED above her hipbone, GIRL across her hear...</td>\n",
       "    </tr>\n",
       "    <tr>\n",
       "      <th>4</th>\n",
       "      <td>Sapiens: A Brief History of Humankind</td>\n",
       "      <td>54.23</td>\n",
       "      <td>5</td>\n",
       "      <td>History</td>\n",
       "      <td>In stock (20 available)</td>\n",
       "      <td>From a renowned historian comes a groundbreaki...</td>\n",
       "    </tr>\n",
       "    <tr>\n",
       "      <th>...</th>\n",
       "      <td>...</td>\n",
       "      <td>...</td>\n",
       "      <td>...</td>\n",
       "      <td>...</td>\n",
       "      <td>...</td>\n",
       "      <td>...</td>\n",
       "    </tr>\n",
       "    <tr>\n",
       "      <th>993</th>\n",
       "      <td>Beyond Good and Evil</td>\n",
       "      <td>43.38</td>\n",
       "      <td>1</td>\n",
       "      <td>Philosophy</td>\n",
       "      <td>In stock (1 available)</td>\n",
       "      <td>Friedrich Nietzsche's Beyond Good and Evil is ...</td>\n",
       "    </tr>\n",
       "    <tr>\n",
       "      <th>994</th>\n",
       "      <td>Ajin: Demi-Human, Volume 1 (Ajin: Demi-Human #1)</td>\n",
       "      <td>57.06</td>\n",
       "      <td>4</td>\n",
       "      <td>Sequential Art</td>\n",
       "      <td>In stock (1 available)</td>\n",
       "      <td>High school student Kei Nagai is struck dead i...</td>\n",
       "    </tr>\n",
       "    <tr>\n",
       "      <th>995</th>\n",
       "      <td>A Spy's Devotion (The Regency Spies of London #1)</td>\n",
       "      <td>16.97</td>\n",
       "      <td>5</td>\n",
       "      <td>Historical Fiction</td>\n",
       "      <td>In stock (1 available)</td>\n",
       "      <td>In England’s Regency era, manners and elegance...</td>\n",
       "    </tr>\n",
       "    <tr>\n",
       "      <th>996</th>\n",
       "      <td>1st to Die (Women's Murder Club #1)</td>\n",
       "      <td>53.98</td>\n",
       "      <td>1</td>\n",
       "      <td>Mystery</td>\n",
       "      <td>In stock (1 available)</td>\n",
       "      <td>James Patterson, bestselling author of the Ale...</td>\n",
       "    </tr>\n",
       "    <tr>\n",
       "      <th>997</th>\n",
       "      <td>1,000 Places to See Before You Die</td>\n",
       "      <td>26.08</td>\n",
       "      <td>5</td>\n",
       "      <td>Travel</td>\n",
       "      <td>In stock (1 available)</td>\n",
       "      <td>Around the World, continent by continent, here...</td>\n",
       "    </tr>\n",
       "  </tbody>\n",
       "</table>\n",
       "<p>998 rows × 6 columns</p>\n",
       "</div>"
      ]
     },
     "execution_count": 2,
     "metadata": {},
     "output_type": "execute_result"
    }
   ],
   "execution_count": 2
  },
  {
   "metadata": {
    "ExecuteTime": {
     "end_time": "2025-09-23T10:35:55.698635Z",
     "start_time": "2025-09-23T10:35:55.565705Z"
    }
   },
   "cell_type": "code",
   "source": [
    "# Compute basic statistics\n",
    "numeric_cols = ['price', 'rating']\n",
    "\n",
    "basic_stats = df[numeric_cols].describe().T\n",
    "basic_stats['median'] = df[numeric_cols].median()\n",
    "basic_stats['mode'] = df[numeric_cols].mode().iloc[0]\n",
    "\n",
    "print(\"Basic Statistics:\")\n",
    "basic_stats"
   ],
   "id": "331aa12d010b879f",
   "outputs": [
    {
     "name": "stdout",
     "output_type": "stream",
     "text": [
      "Basic Statistics:\n"
     ]
    },
    {
     "data": {
      "text/plain": [
       "        count       mean        std   min      25%    50%      75%    max  \\\n",
       "price   998.0  35.052926  14.446311  10.0  22.1025  35.98  47.4075  59.99   \n",
       "rating  998.0   2.924850   1.435111   1.0   2.0000   3.00   4.0000   5.00   \n",
       "\n",
       "        median   mode  \n",
       "price    35.98  16.28  \n",
       "rating    3.00   1.00  "
      ],
      "text/html": [
       "<div>\n",
       "<style scoped>\n",
       "    .dataframe tbody tr th:only-of-type {\n",
       "        vertical-align: middle;\n",
       "    }\n",
       "\n",
       "    .dataframe tbody tr th {\n",
       "        vertical-align: top;\n",
       "    }\n",
       "\n",
       "    .dataframe thead th {\n",
       "        text-align: right;\n",
       "    }\n",
       "</style>\n",
       "<table border=\"1\" class=\"dataframe\">\n",
       "  <thead>\n",
       "    <tr style=\"text-align: right;\">\n",
       "      <th></th>\n",
       "      <th>count</th>\n",
       "      <th>mean</th>\n",
       "      <th>std</th>\n",
       "      <th>min</th>\n",
       "      <th>25%</th>\n",
       "      <th>50%</th>\n",
       "      <th>75%</th>\n",
       "      <th>max</th>\n",
       "      <th>median</th>\n",
       "      <th>mode</th>\n",
       "    </tr>\n",
       "  </thead>\n",
       "  <tbody>\n",
       "    <tr>\n",
       "      <th>price</th>\n",
       "      <td>998.0</td>\n",
       "      <td>35.052926</td>\n",
       "      <td>14.446311</td>\n",
       "      <td>10.0</td>\n",
       "      <td>22.1025</td>\n",
       "      <td>35.98</td>\n",
       "      <td>47.4075</td>\n",
       "      <td>59.99</td>\n",
       "      <td>35.98</td>\n",
       "      <td>16.28</td>\n",
       "    </tr>\n",
       "    <tr>\n",
       "      <th>rating</th>\n",
       "      <td>998.0</td>\n",
       "      <td>2.924850</td>\n",
       "      <td>1.435111</td>\n",
       "      <td>1.0</td>\n",
       "      <td>2.0000</td>\n",
       "      <td>3.00</td>\n",
       "      <td>4.0000</td>\n",
       "      <td>5.00</td>\n",
       "      <td>3.00</td>\n",
       "      <td>1.00</td>\n",
       "    </tr>\n",
       "  </tbody>\n",
       "</table>\n",
       "</div>"
      ]
     },
     "execution_count": 3,
     "metadata": {},
     "output_type": "execute_result"
    }
   ],
   "execution_count": 3
  },
  {
   "metadata": {
    "ExecuteTime": {
     "end_time": "2025-09-23T10:36:11.109655Z",
     "start_time": "2025-09-23T10:36:11.098702Z"
    }
   },
   "cell_type": "code",
   "source": [
    "# Detect outliers in 'price' using IQR method\n",
    "Q1 = df['price'].quantile(0.25)\n",
    "Q3 = df['price'].quantile(0.75)\n",
    "IQR = Q3 - Q1\n",
    "lower_bound = Q1 - 1.5 * IQR\n",
    "upper_bound = Q3 + 1.5 * IQR\n",
    "outliers = df[(df['price'] < lower_bound) | (df['price'] > upper_bound)]\n",
    "print(f\"Outliers in 'price':{len(outliers)} records found.\")\n",
    "print(outliers)"
   ],
   "id": "eb9edd4ad8e527c9",
   "outputs": [
    {
     "name": "stdout",
     "output_type": "stream",
     "text": [
      "Outliers in 'price':0 records found.\n",
      "Empty DataFrame\n",
      "Columns: [title, price, rating, category, availability, description]\n",
      "Index: []\n"
     ]
    }
   ],
   "execution_count": 5
  },
  {
   "metadata": {
    "ExecuteTime": {
     "end_time": "2025-09-23T10:36:22.648055Z",
     "start_time": "2025-09-23T10:36:22.604026Z"
    }
   },
   "cell_type": "code",
   "source": [
    "# correlation matrix for numeric columns\n",
    "corr, p_value = stats.pearsonr(df['price'], df['rating'])\n",
    "print(f\"Pearson correlation between 'price' and 'rating': {corr}, p-value: {p_value}\")"
   ],
   "id": "f18595058edf4208",
   "outputs": [
    {
     "name": "stdout",
     "output_type": "stream",
     "text": [
      "Pearson correlation between 'price' and 'rating': 0.030137094444841823, p-value: 0.3415597130301688\n"
     ]
    }
   ],
   "execution_count": 6
  },
  {
   "metadata": {
    "ExecuteTime": {
     "end_time": "2025-09-23T10:36:32.757265Z",
     "start_time": "2025-09-23T10:36:32.725498Z"
    }
   },
   "cell_type": "code",
   "source": [
    "# compare prices between top and bottom 10% rated books\n",
    "top_10_percent = df['rating'].quantile(0.9)\n",
    "bottom_10_percent = df['rating'].quantile(0.1)\n",
    "top_rated = df[df['rating'] >= top_10_percent]['price']\n",
    "bottom_rated = df[df['rating'] <= bottom_10_percent]['price']\n",
    "t_stat, p_val = stats.ttest_ind(top_rated, bottom_rated, equal_var=False)\n",
    "print(f\"T-test between top and bottom 10% rated books' prices: t-statistic={t_stat}, p-value={p_val}\")"
   ],
   "id": "685d843307da29ed",
   "outputs": [
    {
     "name": "stdout",
     "output_type": "stream",
     "text": [
      "T-test between top and bottom 10% rated books' prices: t-statistic=0.6384339581667415, p-value=0.5235563334739943\n"
     ]
    }
   ],
   "execution_count": 7
  },
  {
   "metadata": {
    "ExecuteTime": {
     "end_time": "2025-09-23T10:36:44.985907Z",
     "start_time": "2025-09-23T10:36:44.893547Z"
    }
   },
   "cell_type": "code",
   "source": [
    "# simple linear regression: predicting price based on rating\n",
    "x = df[['rating']]\n",
    "y = df['price']\n",
    "model = LinearRegression()\n",
    "model.fit(x, y)\n",
    "print(f\"Linear Regression: price = {model.intercept_}\")\n",
    "print(f\"Coefficient for rating: {model.coef_[0]}\")\n",
    "print(f\"R^2: {model.score(x, y)}\")"
   ],
   "id": "cdcf2b82ee6f61c8",
   "outputs": [
    {
     "name": "stdout",
     "output_type": "stream",
     "text": [
      "Linear Regression: price = 34.16561350772499\n",
      "Coefficient for rating: 0.3033702361392453\n",
      "R^2: 0.0009082444615772234\n"
     ]
    }
   ],
   "execution_count": 8
  },
  {
   "metadata": {},
   "cell_type": "code",
   "outputs": [],
   "execution_count": null,
   "source": "",
   "id": "5bbead5eff438e17"
  }
 ],
 "metadata": {
  "kernelspec": {
   "display_name": "Python 3",
   "language": "python",
   "name": "python3"
  },
  "language_info": {
   "codemirror_mode": {
    "name": "ipython",
    "version": 2
   },
   "file_extension": ".py",
   "mimetype": "text/x-python",
   "name": "python",
   "nbconvert_exporter": "python",
   "pygments_lexer": "ipython2",
   "version": "2.7.6"
  }
 },
 "nbformat": 4,
 "nbformat_minor": 5
}
